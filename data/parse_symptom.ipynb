{
 "cells": [
  {
   "cell_type": "code",
   "execution_count": 1,
   "metadata": {},
   "outputs": [],
   "source": [
    "import os\n",
    "import re\n",
    "import json \n",
    "import rdflib \n",
    "import numpy as np \n",
    "import pandas as pd \n",
    "from tqdm import tqdm\n",
    "from collections import defaultdict\n",
    "from rdflib import RDF, RDFS, OWL, XMLNS, XSD"
   ]
  },
  {
   "cell_type": "code",
   "execution_count": 2,
   "metadata": {},
   "outputs": [],
   "source": [
    "g = rdflib.Graph()\n",
    "g.parse(\"symptom_kg.owl\", format=\"turtle\")\n",
    "ns = rdflib.Namespace(\"http://www.semanticweb.org/admin/ontologies/2021/10/untitled-ontology-8#\")\n",
    "ns2 = rdflib.Namespace(\"http://www.w3.org/2002/07/owl#\")\n",
    "ns3 = rdflib.Namespace(\"http://www.w3.org/2000/01/rdf-schema#\")\n",
    "\n",
    "diseases = list(g.subjects(RDF.type, ns[\"Mental_Disease\"]))"
   ]
  },
  {
   "cell_type": "code",
   "execution_count": 3,
   "metadata": {},
   "outputs": [],
   "source": [
    "def get_uri_name(x):\n",
    "    return x[len(\"http://www.semanticweb.org/admin/ontologies/2021/10/untitled-ontology-8#\"):]"
   ]
  },
  {
   "cell_type": "code",
   "execution_count": 4,
   "metadata": {},
   "outputs": [],
   "source": [
    "id2disease = [\n",
    "    'adhd',\n",
    "    'anxiety',\n",
    "    'bipolar_disorder',\n",
    "    'depression',\n",
    "    'eating_disorder',\n",
    "    'ocd',\n",
    "    'ptsd',\n",
    "]\n",
    "disease2id = {x:i for i, x in enumerate(id2disease)}"
   ]
  },
  {
   "cell_type": "code",
   "execution_count": 5,
   "metadata": {},
   "outputs": [
    {
     "name": "stdout",
     "output_type": "stream",
     "text": [
      "['Anger_Irritability', 'Anxious_Mood', 'Autonomic_symptoms', 'Cardiovascular_symptoms', 'Catatonic_behavior', 'Decreased_energy_tiredness_fatigue', 'Depressed_Mood', 'Gastrointestinal_symptoms', 'Genitourinary_symptoms', 'Hyperactivity_agitation', 'Impulsivity', 'Inattention', 'Indecisiveness', 'Respiratory_symptoms', 'Suicidal_ideas', 'Worthlessness_and_guilty', 'avoidance_of_stimuli', 'compensatory_behaviors_to_prevent_weight_gain', 'compulsions', 'diminished_emotional_expression', 'do_things_easily_get_painful_consequences', 'drastical_shift_in_mood_and_energy', 'fear_about_social_situations', 'fear_of_gaining_weight', 'fears_of_being_negatively_evaluated', 'flight_of_ideas', 'intrusion_symptoms', 'loss_of_interest_or_motivation', 'more_talktive', 'obsession', 'panic_fear', 'pessimism', 'poor_memory', 'sleep_disturbance', 'somatic_muscle', 'somatic_symptoms_others', 'somatic_symptoms_sensory', 'weight_and_appetite_change']\n"
     ]
    }
   ],
   "source": [
    "symptoms = sorted(list(g.subjects(RDF.type, ns[\"Symptom\"])))\n",
    "id2symptoms = [get_uri_name(x) for x in symptoms]\n",
    "symptom2id = {x:i for i, x in enumerate(id2symptoms)}\n",
    "print(id2symptoms)"
   ]
  },
  {
   "cell_type": "code",
   "execution_count": 6,
   "metadata": {},
   "outputs": [],
   "source": [
    "# the descriptions of certain symptom uses positive samples\n",
    "desc_from_post = {}\n",
    "# for fname in os.listdir(\"./desc_from_post/\"):\n",
    "#     symp = fname[:-4]\n",
    "#     desc_from_post[symp] = open(\"./desc_from_post/\"+fname).read().split('\\n')\n",
    "# print(desc_from_post)"
   ]
  },
  {
   "cell_type": "code",
   "execution_count": 7,
   "metadata": {},
   "outputs": [
    {
     "name": "stdout",
     "output_type": "stream",
     "text": [
      "[[0, 6], [6, 12], [12, 22], [22, 23], [23, 26], [26, 30], [30, 34], [34, 36], [36, 43], [43, 52], [52, 55], [55, 70], [70, 71], [71, 73], [73, 77], [77, 89], [89, 91], [91, 96], [96, 101], [101, 107], [107, 114], [114, 116], [116, 120], [120, 127], [127, 133], [133, 136], [136, 140], [140, 148], [148, 153], [153, 167], [167, 168], [168, 170], [170, 176], [176, 190], [190, 196], [196, 199], [199, 206], [206, 218]]\n"
     ]
    }
   ],
   "source": [
    "id2desc = []\n",
    "symp_id2desc_range = [[0, 0] for symp in id2symptoms]\n",
    "left = 0\n",
    "for symp_id, symp in enumerate(id2symptoms):\n",
    "    if symp in desc_from_post:\n",
    "        print(symp)\n",
    "        descs = desc_from_post[symp]\n",
    "    else:\n",
    "        descs = sorted(list(g.objects(ns[symp], ns[\"Subsymptoms\"])))\n",
    "        descs = [str(x) for x in descs]\n",
    "    id2desc.extend(descs)\n",
    "    symp_id2desc_range[symp_id] = [left, len(id2desc)]\n",
    "    left = len(id2desc)\n",
    "print(symp_id2desc_range)"
   ]
  },
  {
   "cell_type": "code",
   "execution_count": 8,
   "metadata": {},
   "outputs": [],
   "source": [
    "desc2id = {x:i for i, x in enumerate(id2desc)}"
   ]
  },
  {
   "cell_type": "code",
   "execution_count": 9,
   "metadata": {},
   "outputs": [
    {
     "name": "stdout",
     "output_type": "stream",
     "text": [
      "Autonomic_symptoms\n"
     ]
    },
    {
     "data": {
      "text/plain": [
       "['Feeling dizzy, unsteady, light-headed, or faint.',\n",
       " 'accelerated heart rate',\n",
       " 'dry mouth',\n",
       " 'flushing',\n",
       " 'giddiness',\n",
       " 'headache',\n",
       " 'pallor',\n",
       " 'raising of hair',\n",
       " 'shortness of breath',\n",
       " 'tendency to sweat']"
      ]
     },
     "execution_count": 9,
     "metadata": {},
     "output_type": "execute_result"
    }
   ],
   "source": [
    "symp_id = 2\n",
    "print(id2symptoms[symp_id])\n",
    "id2desc[symp_id2desc_range[symp_id][0]:symp_id2desc_range[symp_id][1]]"
   ]
  },
  {
   "cell_type": "code",
   "execution_count": 10,
   "metadata": {},
   "outputs": [
    {
     "name": "stdout",
     "output_type": "stream",
     "text": [
      "Anger_Irritability ['anxiety', 'bipolar_disorder', 'depression', 'eating_disorder', 'ptsd']\n",
      "Anxious_Mood ['anxiety', 'ocd', 'ptsd']\n",
      "Autonomic_symptoms ['anxiety', 'ptsd']\n",
      "Cardiovascular_symptoms ['anxiety']\n",
      "Catatonic_behavior ['ptsd']\n",
      "Decreased_energy_tiredness_fatigue ['anxiety', 'bipolar_disorder', 'depression']\n",
      "Depressed_Mood ['anxiety', 'bipolar_disorder', 'depression', 'eating_disorder', 'ocd']\n",
      "Gastrointestinal_symptoms ['anxiety']\n",
      "Genitourinary_symptoms ['anxiety', 'depression', 'eating_disorder']\n",
      "Hyperactivity_agitation ['adhd', 'anxiety', 'bipolar_disorder', 'depression']\n",
      "Impulsivity ['adhd']\n",
      "Inattention ['adhd', 'anxiety', 'bipolar_disorder', 'depression', 'ptsd']\n",
      "Indecisiveness ['depression']\n",
      "Respiratory_symptoms ['anxiety']\n",
      "Suicidal_ideas ['bipolar_disorder', 'depression']\n",
      "Worthlessness_and_guilty ['bipolar_disorder', 'depression', 'eating_disorder', 'ptsd']\n",
      "avoidance_of_stimuli ['ptsd']\n",
      "compensatory_behaviors_to_prevent_weight_gain ['eating_disorder']\n",
      "compulsions ['ocd']\n",
      "diminished_emotional_expression ['eating_disorder', 'ptsd']\n",
      "do_things_easily_get_painful_consequences ['bipolar_disorder', 'ptsd']\n",
      "drastical_shift_in_mood_and_energy ['bipolar_disorder']\n",
      "fear_about_social_situations ['anxiety']\n",
      "fear_of_gaining_weight ['eating_disorder']\n",
      "fears_of_being_negatively_evaluated ['anxiety', 'eating_disorder']\n",
      "flight_of_ideas ['bipolar_disorder']\n",
      "intrusion_symptoms ['ptsd']\n",
      "loss_of_interest_or_motivation ['bipolar_disorder', 'depression', 'eating_disorder', 'ptsd']\n",
      "more_talktive ['adhd', 'bipolar_disorder']\n",
      "obsession ['eating_disorder', 'ocd']\n",
      "panic_fear ['anxiety']\n",
      "pessimism ['depression', 'ptsd']\n",
      "poor_memory ['anxiety', 'depression', 'ptsd']\n",
      "sleep_disturbance ['anxiety', 'bipolar_disorder', 'depression', 'eating_disorder', 'ptsd']\n",
      "somatic_muscle ['anxiety']\n",
      "somatic_symptoms_others ['anxiety']\n",
      "somatic_symptoms_sensory ['anxiety']\n",
      "weight_and_appetite_change ['bipolar_disorder', 'depression', 'eating_disorder']\n",
      "[[1, 2, 3, 4, 6], [1, 5, 6], [1, 6], [1], [6], [1, 2, 3], [1, 2, 3, 4, 5], [1], [1, 3, 4], [0, 1, 2, 3], [0], [0, 1, 2, 3, 6], [3], [1], [2, 3], [2, 3, 4, 6], [6], [4], [5], [4, 6], [2, 6], [2], [1], [4], [1, 4], [2], [6], [2, 3, 4, 6], [0, 2], [4, 5], [1], [3, 6], [1, 3, 6], [1, 2, 3, 4, 6], [1], [1], [1], [2, 3, 4]]\n"
     ]
    }
   ],
   "source": [
    "symp_id2disease_ids = [[] for i in range(len(id2symptoms))]\n",
    "for symptom in symptoms:\n",
    "    diseases = list(get_uri_name(x).lower() for x in g.objects(symptom, ns['IsSymptomOf']))\n",
    "    symp = get_uri_name(symptom)\n",
    "    print(symp, diseases)\n",
    "    symp_id2disease_ids[symptom2id[symp]] = [disease2id[d] for d in diseases]\n",
    "print(symp_id2disease_ids)"
   ]
  },
  {
   "cell_type": "code",
   "execution_count": 11,
   "metadata": {},
   "outputs": [
    {
     "data": {
      "text/plain": [
       "53"
      ]
     },
     "execution_count": 11,
     "metadata": {},
     "output_type": "execute_result"
    }
   ],
   "source": [
    "subreddit2disease = json.load(open(\"subreddit2disease.json\"))\n",
    "len(subreddit2disease)"
   ]
  },
  {
   "cell_type": "code",
   "execution_count": 12,
   "metadata": {},
   "outputs": [],
   "source": [
    "# don't use subreddit for filtered diseases\n",
    "id2subreddit = sorted(k for k, v in subreddit2disease.items() if v.lower() != 'autism')\n",
    "subreddit2id = {x:i for i, x in enumerate(id2subreddit)}"
   ]
  },
  {
   "cell_type": "code",
   "execution_count": 13,
   "metadata": {},
   "outputs": [],
   "source": [
    "with open(\"parsed_kg_info.json\", \"w\") as f:\n",
    "    ret = {\n",
    "        'id2disease': id2disease,\n",
    "        'disease2id': disease2id,\n",
    "        'symp2id': symptom2id,\n",
    "        'id2symp': id2symptoms,\n",
    "        'desc2id': desc2id,\n",
    "        'id2desc': id2desc,\n",
    "        'symp_id2desc_range': symp_id2desc_range,\n",
    "        'symp_id2disease_ids': symp_id2disease_ids,\n",
    "        'id2subreddit': id2subreddit,\n",
    "        'subreddit2id': subreddit2id,\n",
    "    }\n",
    "    json.dump(ret, f, indent=4, ensure_ascii=False)"
   ]
  },
  {
   "cell_type": "code",
   "execution_count": null,
   "metadata": {},
   "outputs": [],
   "source": []
  }
 ],
 "metadata": {
  "interpreter": {
   "hash": "b5db102010a3dd171c91efb40b5cba45b5815823043b29a2c64a30f9c107a019"
  },
  "kernelspec": {
   "display_name": "Python 3.7.11 ('py37')",
   "language": "python",
   "name": "python3"
  },
  "language_info": {
   "codemirror_mode": {
    "name": "ipython",
    "version": 3
   },
   "file_extension": ".py",
   "mimetype": "text/x-python",
   "name": "python",
   "nbconvert_exporter": "python",
   "pygments_lexer": "ipython3",
   "version": "3.7.11"
  },
  "orig_nbformat": 4
 },
 "nbformat": 4,
 "nbformat_minor": 2
}
